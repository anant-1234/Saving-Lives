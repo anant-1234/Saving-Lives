{
 "cells": [
  {
   "cell_type": "code",
   "execution_count": null,
   "metadata": {},
   "outputs": [],
   "source": [
    "import bz2 #bz2\n",
    "import lzma #xz\n",
    "import zstandard as zstd #zst\n",
    "import json\n",
    "import wget\n",
    "import os\n",
    "from pprint import pprint"
   ]
  },
  {
   "cell_type": "markdown",
   "metadata": {},
   "source": [
    "# Ignore next block for now"
   ]
  },
  {
   "cell_type": "code",
   "execution_count": null,
   "metadata": {},
   "outputs": [],
   "source": [
    "with open(\"RC_2006-04.zst\", 'rb') as f:\n",
    "    cctx = zstd.ZstdDecompressor()\n",
    "    reader = cctx.stream_reader(f)\n",
    "    while True:\n",
    "        chunk = reader.read(16384)\n",
    "        if not chunk:\n",
    "            break\n",
    "        pprint(chunk.decode(\"ASCII\"))\n",
    "        break\n"
   ]
  },
  {
   "cell_type": "code",
   "execution_count": null,
   "metadata": {},
   "outputs": [],
   "source": [
    "def inc_month(cur):\n",
    "    tmp = cur.split(\"-\")\n",
    "    year = int(tmp[0])\n",
    "    month = int(tmp[1])\n",
    "    if month == 12:\n",
    "        month = 1\n",
    "        year += 1\n",
    "    else:\n",
    "        month += 1\n",
    "    \n",
    "    tmp[0] = str(year)\n",
    "    tmp[1] = str(month)\n",
    "    if len(tmp[1]) == 1:\n",
    "        tmp[1] = \"0\" + tmp[1]\n",
    "    tmp = \"-\".join(tmp)\n",
    "    return tmp\n",
    "    "
   ]
  },
  {
   "cell_type": "code",
   "execution_count": null,
   "metadata": {},
   "outputs": [],
   "source": [
    "def get_file(file_type, filename):\n",
    "    url = \"https://files.pushshift.io/reddit/{}/{}\".format(file_type, filename)\n",
    "    filename = wget.download(url)\n",
    "    return filename"
   ]
  },
  {
   "cell_type": "code",
   "execution_count": null,
   "metadata": {},
   "outputs": [],
   "source": [
    "def remove_file(filename):\n",
    "    os.remove(filename)"
   ]
  },
  {
   "cell_type": "markdown",
   "metadata": {},
   "source": [
    "# Implement this\n",
    "file_type = \"comments\" or \"submissions\", data = json"
   ]
  },
  {
   "cell_type": "code",
   "execution_count": null,
   "metadata": {},
   "outputs": [],
   "source": [
    "def process_data(file_type, data):\n",
    "#     pprint(data)\n",
    "    # do something here\n",
    "    return"
   ]
  },
  {
   "cell_type": "code",
   "execution_count": null,
   "metadata": {},
   "outputs": [],
   "source": [
    "def process_bz2(file_type, filename):\n",
    "    with bz2.open(filename, \"rt\") as f:\n",
    "        for line in f.readlines():\n",
    "            data = json.loads(line)\n",
    "            process_data(file_type, data)\n",
    "    return"
   ]
  },
  {
   "cell_type": "code",
   "execution_count": null,
   "metadata": {},
   "outputs": [],
   "source": [
    "def process_xz(file_type, filename):\n",
    "    with lzma.open(filename, \"rt\") as f:\n",
    "        for line in f.readlines():\n",
    "            data = json.loads(line)\n",
    "            process_data(file_type, data)\n",
    "    return"
   ]
  },
  {
   "cell_type": "code",
   "execution_count": null,
   "metadata": {},
   "outputs": [],
   "source": [
    "def process_zst(file_type, filename):\n",
    "    # do something here\n",
    "    return"
   ]
  },
  {
   "cell_type": "code",
   "execution_count": null,
   "metadata": {},
   "outputs": [],
   "source": [
    "process = {\"bz2\" : process_bz2, \"xz\" : process_xz, \"zst\" : process_xz}"
   ]
  },
  {
   "cell_type": "code",
   "execution_count": null,
   "metadata": {},
   "outputs": [],
   "source": [
    "def process_file(file_type, filename, extension):\n",
    "    filename = get_file(file_type, filename)\n",
    "    process_func = process[extension]\n",
    "    process_func(file_type, filename)\n",
    "    remove_file(filename)\n"
   ]
  },
  {
   "cell_type": "markdown",
   "metadata": {},
   "source": [
    "## Date loop from index 2*i to 2*i+1\n",
    "Change this for parallelization\n",
    "\n",
    "Can make different such lists"
   ]
  },
  {
   "cell_type": "code",
   "execution_count": null,
   "metadata": {},
   "outputs": [],
   "source": [
    "comments_bz2 = [\"2005-12\", \"2017-11\"]\n",
    "comments_xz = [\"2017-12\", \"2018-10\"]\n",
    "comments_zst = [\"2018-10\", \"2019-11\"]\n",
    "\n",
    "submissions_bz2 = [\"2011-01\", \"2014-12\", \"2017-01\", \"2017-11\"]\n",
    "submissions_xz = [\"2005-06\", \"2010-12\", \"2017-07\", \"2017-07\", \"2017-11\", \"2018-10\"]\n",
    "submissions_zst = [\"2015-01\", \"2016-12\", \"2018-11\", \"2019-08\"]"
   ]
  },
  {
   "cell_type": "code",
   "execution_count": 42,
   "metadata": {},
   "outputs": [],
   "source": [
    "def do_loop(file_type, list_name, filename_format, ext, sp_format = None):\n",
    "    for i in range(0, len(list_name), 2):\n",
    "        date = list_name[i]\n",
    "        cnt = 0\n",
    "        while date != inc_month(list_name[i+1]):\n",
    "            if sp_format and i == 0:\n",
    "                filename = sp_format.format(date)\n",
    "            else:\n",
    "                filename = filename_format.format(date)\n",
    "            print(filename)\n",
    "            process_file(file_type, filename, ext)\n",
    "            cnt +=1 \n",
    "            if cnt ==3 :\n",
    "                break;\n",
    "            date = inc_month(date)\n"
   ]
  },
  {
   "cell_type": "code",
   "execution_count": 43,
   "metadata": {},
   "outputs": [
    {
     "name": "stdout",
     "output_type": "stream",
     "text": [
      "RC_2005-12.bz2\n",
      "RC_2006-01.bz2\n",
      "RC_2006-02.bz2\n"
     ]
    }
   ],
   "source": [
    "do_loop(\"comments\", comments_bz2, \"RC_{}.bz2\", \"bz2\")"
   ]
  },
  {
   "cell_type": "code",
   "execution_count": null,
   "metadata": {},
   "outputs": [],
   "source": [
    "do_loop(\"comments\", comments_xz, \"RC_{}.xz\", \"xz\")"
   ]
  },
  {
   "cell_type": "code",
   "execution_count": null,
   "metadata": {},
   "outputs": [],
   "source": [
    "# not implemented\n",
    "# do_loop(\"comments\", comments_zst, \"RC_{}.zst\", \"zst\")\n"
   ]
  },
  {
   "cell_type": "code",
   "execution_count": null,
   "metadata": {
    "scrolled": true
   },
   "outputs": [],
   "source": [
    "do_loop(\"submissions\", submissions_bz2, \"RS_{}.bz2\", \"bz2\")"
   ]
  },
  {
   "cell_type": "code",
   "execution_count": null,
   "metadata": {
    "scrolled": true
   },
   "outputs": [],
   "source": [
    "do_loop(\"submissions\", submissions_xz, \"RS_{}.xz\", \"xz\", \"RS_v2_{}.xz\")"
   ]
  },
  {
   "cell_type": "code",
   "execution_count": null,
   "metadata": {},
   "outputs": [],
   "source": [
    "# Not implemented\n",
    "# do_loop(\"submissions\", submissions_zst, \"RS_{}.zst\", \"zst\")"
   ]
  }
 ],
 "metadata": {
  "kernelspec": {
   "display_name": "saving_lives",
   "language": "python",
   "name": "saving_lives"
  },
  "language_info": {
   "codemirror_mode": {
    "name": "ipython",
    "version": 3
   },
   "file_extension": ".py",
   "mimetype": "text/x-python",
   "name": "python",
   "nbconvert_exporter": "python",
   "pygments_lexer": "ipython3",
   "version": "3.6.8"
  }
 },
 "nbformat": 4,
 "nbformat_minor": 2
}
