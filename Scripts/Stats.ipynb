{
 "cells": [
  {
   "cell_type": "code",
   "execution_count": 31,
   "metadata": {},
   "outputs": [],
   "source": [
    "import json\n",
    "from pprint import pprint\n",
    "import time\n",
    "\n",
    "def get_stats(f):\n",
    "    f = open(f, 'r')\n",
    "    posts = f.readlines()\n",
    "    num_posts = len(posts)\n",
    "    num_comments = 0\n",
    "    post_authors = set()\n",
    "    comment_authors = set()\n",
    "    min_post_time = 1e18\n",
    "    max_post_time = 0\n",
    "    for post in posts:\n",
    "        post = json.loads(post)\n",
    "        max_post_time = max(max_post_time, post['created_utc'])\n",
    "        min_post_time = min(min_post_time, post['created_utc'])\n",
    "        post_authors.add(post['author'])\n",
    "        num_comments += len(post['comment_obj'])\n",
    "        for comment in post['comment_obj']:\n",
    "            comment_authors.add(comment['author'])\n",
    "    print(\"Number of posts :\", num_posts)\n",
    "    print(\"Number of comments :\", num_comments)\n",
    "    print(\"Number of unique authors with atleast 1 post :\", len(post_authors))\n",
    "    print(\"Number of unique authors with atleast 1 comment :\", len(comment_authors))\n",
    "    in_time = time.strftime(\"%a, %d %b %Y %H:%M:%S %Z\", time.localtime(min_post_time))\n",
    "    out_time = time.strftime(\"%a, %d %b %Y %H:%M:%S %Z\", time.localtime(max_post_time))\n",
    "    print(min_post_time, max_post_time)\n",
    "    print(\"First post on :\",in_time)\n",
    "    print(\"Last post on :\",out_time)"
   ]
  },
  {
   "cell_type": "code",
   "execution_count": 32,
   "metadata": {},
   "outputs": [
    {
     "name": "stdout",
     "output_type": "stream",
     "text": [
      "Number of posts : 83183\n",
      "Number of comments : 529408\n",
      "Number of unique authors with atleast 1 post : 39710\n",
      "Number of unique authors with atleast 1 comment : 52011\n",
      "1249172428 1586617294\n",
      "First post on : Sun, 02 Aug 2009 05:50:28 IST\n",
      "Last post on : Sat, 11 Apr 2020 20:31:34 IST\n",
      "Number of posts : 1679\n",
      "Number of comments : 6535\n",
      "Number of unique authors with atleast 1 post : 1246\n",
      "Number of unique authors with atleast 1 comment : 1944\n",
      "1246314967 1586479338\n",
      "First post on : Tue, 30 Jun 2009 04:06:07 IST\n",
      "Last post on : Fri, 10 Apr 2020 06:12:18 IST\n"
     ]
    }
   ],
   "source": [
    "get_stats('mdma.ndjson')\n",
    "get_stats('tripreports.ndjson')"
   ]
  },
  {
   "cell_type": "code",
   "execution_count": null,
   "metadata": {},
   "outputs": [],
   "source": []
  }
 ],
 "metadata": {
  "kernelspec": {
   "display_name": "Python 3",
   "language": "python",
   "name": "python3"
  },
  "language_info": {
   "codemirror_mode": {
    "name": "ipython",
    "version": 3
   },
   "file_extension": ".py",
   "mimetype": "text/x-python",
   "name": "python",
   "nbconvert_exporter": "python",
   "pygments_lexer": "ipython3",
   "version": "3.6.9"
  }
 },
 "nbformat": 4,
 "nbformat_minor": 4
}
